{
 "cells": [
  {
   "cell_type": "code",
   "execution_count": null,
   "id": "8e1a26de-173e-43d0-9b77-573b0197aa74",
   "metadata": {},
   "outputs": [],
   "source": [
    "import os\n",
    "import pandas as pd\n",
    "import matplotlib.pyplot as plt"
   ]
  },
  {
   "cell_type": "code",
   "execution_count": null,
   "id": "f9c2986f-2b50-451c-a83c-5e216dd2cf5b",
   "metadata": {
    "editable": true,
    "slideshow": {
     "slide_type": ""
    },
    "tags": []
   },
   "outputs": [],
   "source": [
    "# get relative path to the data folder\n",
    "def get_data_dir():\n",
    "    return os.path.join(os.path.dirname(os.getcwd()), \"data\")\n",
    "\n",
    "# root directory\n",
    "data_dir = get_data_dir()\n",
    "data_dir"
   ]
  },
  {
   "cell_type": "code",
   "execution_count": null,
   "id": "4a09ab36-b6b3-4e61-8451-5fb27d3d189c",
   "metadata": {},
   "outputs": [],
   "source": [
    "# set up the file paths\n",
    "f_runoff = os.path.join(data_dir, 'example/output/pm_abcd_mrtm_watch_1971_2001/q_km3peryear_pm_abcd_mrtm_watch_1971_2001.csv')\n",
    "f_mapping = os.path.join(data_dir, 'example/input/reference/basin.csv')\n",
    "f_basin_name = os.path.join(data_dir, 'example/input/reference/BasinNames235.txt')\n",
    "f_coord = os.path.join(data_dir, 'example/input/reference/coordinates.csv')"
   ]
  },
  {
   "cell_type": "code",
   "execution_count": null,
   "id": "5cc49252-480d-4f1c-bf4b-06fc67f84e5c",
   "metadata": {},
   "outputs": [],
   "source": [
    "# load gridded runoff\n",
    "df_runoff = pd.read_csv(f_runoff)\n",
    "df_runoff"
   ]
  },
  {
   "cell_type": "code",
   "execution_count": null,
   "id": "4f151595-a4ee-4625-8f96-85bf92c2578b",
   "metadata": {},
   "outputs": [],
   "source": [
    "# load mapping from grid cells to basin id\n",
    "df_mapping = pd.read_csv(f_mapping)\n",
    "df_mapping"
   ]
  },
  {
   "cell_type": "code",
   "execution_count": null,
   "id": "a36b782f-52b0-468a-9019-0b12d1e3cde8",
   "metadata": {},
   "outputs": [],
   "source": [
    "# load basin name\n",
    "df_basin_name = pd.read_table(f_basin_name, header=None, names=['basin_name'])\n",
    "df_basin_name"
   ]
  },
  {
   "cell_type": "code",
   "execution_count": null,
   "id": "695f418f-b4be-41cc-9b62-25eb563b02cd",
   "metadata": {},
   "outputs": [],
   "source": [
    "# load coordinates\n",
    "df_coord = pd.read_csv(f_coord, header=None, names=['id', 'lon', 'lat', 'x', 'y'])\n",
    "df_coord"
   ]
  },
  {
   "cell_type": "code",
   "execution_count": null,
   "id": "c39cc8b1-bd2f-411d-9c94-176e5f2b36e6",
   "metadata": {},
   "outputs": [],
   "source": [
    "# merge the mapping of basin id and name into the runoff dataframe\n",
    "df_runoff['basin_id'] = df_mapping\n",
    "\n",
    "# add basin id to basin names\n",
    "df_basin_name['basin_id'] = df_basin_name.index + 1\n",
    "\n",
    "# merge basin_name to runoff dataframe by basin_id\n",
    "df_runoff = df_runoff.merge(df_basin_name, on='basin_id').drop('id', axis=1)\n",
    "df_runoff"
   ]
  },
  {
   "cell_type": "code",
   "execution_count": null,
   "id": "8d2fda15-1687-4c09-a07f-9b22ff361932",
   "metadata": {},
   "outputs": [],
   "source": [
    "# aggregate the runoff by basin id and basin name\n",
    "df_runoff_basin = df_runoff.groupby(['basin_id', 'basin_name'], as_index=False).sum()\n",
    "df_runoff_basin"
   ]
  },
  {
   "cell_type": "code",
   "execution_count": null,
   "id": "1df7699c-063c-4b19-ab1c-9a0efcf871e0",
   "metadata": {},
   "outputs": [],
   "source": [
    "# plot basin runoff (e.g., basin 229 - Pacific Northwest Basin)\n",
    "df_runoff_basin.iloc[228, 2:].plot(kind='line')\n",
    "plt.title('Basin 229 - Pacific Northwest Basin')\n",
    "plt.ylabel('Runoff (km3/year)')"
   ]
  }
 ],
 "metadata": {
  "kernelspec": {
   "display_name": "Python 3 (ipykernel)",
   "language": "python",
   "name": "python3"
  },
  "language_info": {
   "codemirror_mode": {
    "name": "ipython",
    "version": 3
   },
   "file_extension": ".py",
   "mimetype": "text/x-python",
   "name": "python",
   "nbconvert_exporter": "python",
   "pygments_lexer": "ipython3",
   "version": "3.11.8"
  }
 },
 "nbformat": 4,
 "nbformat_minor": 5
}
